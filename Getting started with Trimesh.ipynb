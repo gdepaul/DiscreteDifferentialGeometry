{
 "cells": [
  {
   "cell_type": "code",
   "execution_count": null,
   "id": "8ae38622",
   "metadata": {},
   "outputs": [],
   "source": [
    "import numpy as np\n",
    "import trimesh\n",
    "from scipy.stats import special_ortho_group\n",
    "import matplotlib.pyplot as plt\n",
    "from mpl_toolkits.mplot3d import Axes3D\n",
    "import time"
   ]
  },
  {
   "cell_type": "code",
   "execution_count": null,
   "id": "d6c5cc29",
   "metadata": {},
   "outputs": [],
   "source": [
    "mesh = trimesh.load_mesh('bun_zipper.ply')"
   ]
  },
  {
   "cell_type": "markdown",
   "id": "33f3ebcd",
   "metadata": {},
   "source": [
    "## is the current mesh closed?"
   ]
  },
  {
   "cell_type": "code",
   "execution_count": null,
   "id": "243626b9",
   "metadata": {},
   "outputs": [],
   "source": [
    "mesh.is_watertight"
   ]
  },
  {
   "cell_type": "code",
   "execution_count": null,
   "id": "d4a80867",
   "metadata": {},
   "outputs": [],
   "source": [
    "# preview mesh in a pyglet window from a terminal, or inline in a notebook\n",
    "mesh.show()"
   ]
  },
  {
   "cell_type": "code",
   "execution_count": null,
   "id": "1e6b68b3",
   "metadata": {},
   "outputs": [],
   "source": [
    "# Callback function responsible for animating the objects\n",
    "def rotate_objects(scene):\n",
    "    # create an empty homogenous transformation matrix for rotating the sphere\n",
    "    matrix = np.eye(4)\n",
    "\n",
    "    # get the delta of the time. We need this as trimesh does not contain a function for automatic incrementation of movements\n",
    "    delta_change = time.time()\n",
    "    # set Y as sin of time. We can change the speed of rotation by multiplying the delta_change with a scalar\n",
    "    matrix[0][3] = np.sin(-delta_change*2)\n",
    "    # set Z as cos of time\n",
    "    matrix[2][3] = np.cos(-delta_change*2)\n",
    "\n",
    "    # create a y axis rotation for the angel mesh. We use the trimesh.transofmration.rotation_matrix which requires rotation angle and an axis\n",
    "    yaxis = [0,1,0]\n",
    "    Ry = trimesh.transformations.rotation_matrix(delta_change*2, yaxis)\n",
    "\n",
    "    # Get the nodes for the sphere and the mesh. You can also directly call them with their created mesh containers or keep which node is which mesh in a dictionary\n",
    "    # For our purpose we only have two objects so we just select them in the way they are added to the scene\n",
    "    node_sphere = s.graph.nodes_geometry[0]\n",
    "    node_mesh = s.graph.nodes_geometry[1]\n",
    "\n",
    "    # apply the transform to the node and update the scene\n",
    "    scene.graph.update(node_sphere, matrix=matrix)\n",
    "    scene.graph.update(node_mesh, matrix=Ry)"
   ]
  },
  {
   "cell_type": "code",
   "execution_count": null,
   "id": "5e4976a1",
   "metadata": {},
   "outputs": [],
   "source": [
    "# create a sphere primitive. Additional primitives can be created like box, capsule, extrusion, etc.\n",
    "sphere_mesh = trimesh.primitives.Sphere(radius=0.1)\n",
    "# set the color of the sphere\n",
    "sphere_mesh.visual.face_colors = [0, 0, 255, 255]\n",
    "\n",
    "# Set up a scene containing the sphere and the angel mesh\n",
    "s = trimesh.Scene([sphere_mesh,mesh])\n",
    "\n",
    "# Print the nodes that the scene contains - each mesh has a separate node\n",
    "print(s.graph.nodes)\n",
    "\n",
    "# Show the scene and set a callback function, which will be used to rotate the objects\n",
    "#s.show(viewer='gl', callback=rotate_objects)\n",
    "s.show(viewer='gl', callback=rotate_objects)"
   ]
  },
  {
   "cell_type": "markdown",
   "id": "2d4e55bf",
   "metadata": {},
   "source": [
    "## Check to see if a point is inside or outside a mesh? "
   ]
  },
  {
   "cell_type": "code",
   "execution_count": null,
   "id": "69e690de",
   "metadata": {},
   "outputs": [],
   "source": [
    "check_in_or_out = trimesh.proximity.ProximityQuery(mesh)"
   ]
  },
  {
   "cell_type": "code",
   "execution_count": null,
   "id": "c5857243",
   "metadata": {},
   "outputs": [],
   "source": [
    "check_in_or_out.signed_distance([[0,0,0]])"
   ]
  },
  {
   "cell_type": "code",
   "execution_count": null,
   "id": "63cda224",
   "metadata": {},
   "outputs": [],
   "source": [
    "check_in_or_out.signed_distance([[1000,1000,1000]])"
   ]
  },
  {
   "cell_type": "markdown",
   "id": "e73a2b3e",
   "metadata": {},
   "source": [
    "## Extract Vertices"
   ]
  },
  {
   "cell_type": "code",
   "execution_count": null,
   "id": "eecb0a5c",
   "metadata": {},
   "outputs": [],
   "source": [
    "V = np.array(mesh.vertices)"
   ]
  },
  {
   "cell_type": "code",
   "execution_count": null,
   "id": "f267e005",
   "metadata": {},
   "outputs": [],
   "source": [
    "fig = plt.figure(figsize=(12, 12))\n",
    "ax = plt.axes(projection='3d')\n",
    "ax.scatter3D(V[:,0], V[:,1], V[:,2])\n",
    "plt.show()"
   ]
  },
  {
   "cell_type": "markdown",
   "id": "2e70f038",
   "metadata": {},
   "source": [
    "## Rotate points"
   ]
  },
  {
   "cell_type": "code",
   "execution_count": null,
   "id": "bf8d3d87",
   "metadata": {},
   "outputs": [],
   "source": [
    "R = special_ortho_group.rvs(3)"
   ]
  },
  {
   "cell_type": "code",
   "execution_count": null,
   "id": "5e2e3ab0",
   "metadata": {},
   "outputs": [],
   "source": [
    "newV = V @ R"
   ]
  },
  {
   "cell_type": "code",
   "execution_count": null,
   "id": "cd23bc8b",
   "metadata": {},
   "outputs": [],
   "source": [
    "fig = plt.figure(figsize=(12, 12))\n",
    "ax = plt.axes(projection='3d')\n",
    "ax.scatter3D(newV[:,0], newV[:,1], newV[:,2])\n",
    "plt.show()"
   ]
  }
 ],
 "metadata": {
  "kernelspec": {
   "display_name": "Python 3 (ipykernel)",
   "language": "python",
   "name": "python3"
  },
  "language_info": {
   "codemirror_mode": {
    "name": "ipython",
    "version": 3
   },
   "file_extension": ".py",
   "mimetype": "text/x-python",
   "name": "python",
   "nbconvert_exporter": "python",
   "pygments_lexer": "ipython3",
   "version": "3.10.14"
  }
 },
 "nbformat": 4,
 "nbformat_minor": 5
}
